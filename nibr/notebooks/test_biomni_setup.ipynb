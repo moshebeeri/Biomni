{
 "cells": [
  {
   "cell_type": "markdown",
   "metadata": {},
   "source": [
    "# Test Biomni NIBR Setup\n",
    "This notebook verifies that the Biomni container is properly configured with:\n",
    "- Mounted data lake\n",
    "- API keys from nibr/.env\n",
    "- Working agent initialization"
   ]
  },
  {
   "cell_type": "markdown",
   "metadata": {},
   "source": [
    "## 1. Environment Check"
   ]
  },
  {
   "cell_type": "code",
   "execution_count": null,
   "metadata": {},
   "outputs": [],
   "source": [
    "import os\n",
    "import sys\n",
    "\n",
    "print(\"Python version:\", sys.version)\n",
    "print(\"\\nEnvironment variables:\")\n",
    "print(f\"  BIOMNI_DATA_PATH: {os.environ.get('BIOMNI_DATA_PATH', 'NOT SET')}\")\n",
    "print(f\"  BIOMNI_SKIP_DOWNLOAD: {os.environ.get('BIOMNI_SKIP_DOWNLOAD', 'NOT SET')}\")\n",
    "print(f\"  OpenAI API: {'✓ Configured' if os.environ.get('OPENAI_API_KEY') else '✗ Missing'}\")\n",
    "print(f\"  Anthropic API: {'✓ Configured' if os.environ.get('ANTHROPIC_API_KEY') else '✗ Missing'}\")"
   ]
  },
  {
   "cell_type": "markdown",
   "metadata": {},
   "source": [
    "## 2. Data Lake Verification"
   ]
  },
  {
   "cell_type": "code",
   "execution_count": null,
   "metadata": {},
   "outputs": [],
   "source": [
    "import os\n",
    "import pandas as pd\n",
    "from pathlib import Path\n",
    "\n",
    "data_path = os.environ.get('BIOMNI_DATA_PATH', '/biomni_data')\n",
    "data_lake = Path(data_path) / 'data_lake'\n",
    "\n",
    "if data_lake.exists():\n",
    "    files = list(data_lake.glob('*.parquet'))\n",
    "    print(f\"✓ Data lake found at: {data_lake}\")\n",
    "    print(f\"✓ Total files: {len(files)}\")\n",
    "    \n",
    "    # Show sample files with sizes\n",
    "    print(\"\\nSample datasets:\")\n",
    "    for f in sorted(files)[:10]:\n",
    "        size_mb = f.stat().st_size / (1024*1024)\n",
    "        print(f\"  • {f.name}: {size_mb:.2f} MB\")\n",
    "        \n",
    "    # Calculate total size\n",
    "    total_size = sum(f.stat().st_size for f in files) / (1024*1024*1024)\n",
    "    print(f\"\\nTotal data lake size: {total_size:.2f} GB\")\n",
    "else:\n",
    "    print(f\"✗ Data lake not found at: {data_lake}\")\n",
    "    print(\"  Please check your data mount configuration\")"
   ]
  },
  {
   "cell_type": "markdown",
   "metadata": {},
   "source": [
    "## 3. Load Sample Dataset"
   ]
  },
  {
   "cell_type": "code",
   "execution_count": null,
   "metadata": {},
   "outputs": [],
   "source": [
    "# Try to load DisGeNET - disease-gene associations\n",
    "disgenet_path = data_lake / 'DisGeNET.parquet'\n",
    "\n",
    "if disgenet_path.exists():\n",
    "    df = pd.read_parquet(disgenet_path)\n",
    "    print(f\"✓ Successfully loaded DisGeNET\")\n",
    "    print(f\"  Shape: {df.shape}\")\n",
    "    print(f\"  Columns: {list(df.columns)}\")\n",
    "    print(\"\\nFirst 5 rows:\")\n",
    "    display(df.head())\n",
    "else:\n",
    "    print(f\"DisGeNET not found at {disgenet_path}\")"
   ]
  },
  {
   "cell_type": "markdown",
   "metadata": {},
   "source": [
    "## 4. Initialize Biomni Agent"
   ]
  },
  {
   "cell_type": "code",
   "execution_count": null,
   "metadata": {},
   "outputs": [],
   "source": [
    "# Import the local mount wrapper\n",
    "from biomni_local_mount import A1LocalMount\n",
    "\n",
    "# Initialize agent with local data\n",
    "agent = A1LocalMount(\n",
    "    path='/',\n",
    "    skip_download=True,\n",
    "    validate_data=False,\n",
    "    llm='gpt-4'  # or 'claude-3-sonnet' for Anthropic\n",
    ")\n",
    "\n",
    "print(\"✓ Biomni agent initialized successfully!\")\n",
    "print(f\"  Agent type: {type(agent).__name__}\")\n",
    "print(f\"  Data path: {agent.get_data_path() if hasattr(agent, 'get_data_path') else 'N/A'}\")"
   ]
  },
  {
   "cell_type": "markdown",
   "metadata": {},
   "source": [
    "## 5. Test Simple Query"
   ]
  },
  {
   "cell_type": "code",
   "execution_count": null,
   "metadata": {},
   "outputs": [],
   "source": [
    "# Test with a simple biomedical question\n",
    "query = \"What are the top 5 genes associated with Alzheimer's disease according to DisGeNET?\"\n",
    "\n",
    "print(f\"Query: {query}\")\n",
    "print(\"\\nProcessing...\")\n",
    "\n",
    "try:\n",
    "    result = agent.run(query)\n",
    "    print(\"\\n✓ Query executed successfully!\")\n",
    "    print(\"\\nResult:\")\n",
    "    print(result)\n",
    "except Exception as e:\n",
    "    print(f\"\\n✗ Error during query execution: {e}\")\n",
    "    print(\"\\nTroubleshooting:\")\n",
    "    print(\"1. Check that API keys are properly set in nibr/.env\")\n",
    "    print(\"2. Verify data is mounted correctly\")\n",
    "    print(\"3. Ensure you have sufficient API credits\")"
   ]
  },
  {
   "cell_type": "markdown",
   "metadata": {},
   "source": [
    "## 6. Test Tool Registry"
   ]
  },
  {
   "cell_type": "code",
   "execution_count": null,
   "metadata": {},
   "outputs": [],
   "source": [
    "# Check available tools\n",
    "from biomni.tool import ToolRegistry\n",
    "\n",
    "registry = ToolRegistry()\n",
    "tools = registry.get_all_tools()\n",
    "\n",
    "print(f\"✓ Found {len(tools)} tools in registry\")\n",
    "print(\"\\nSample tools:\")\n",
    "for tool_name in list(tools.keys())[:10]:\n",
    "    print(f\"  • {tool_name}\")"
   ]
  },
  {
   "cell_type": "markdown",
   "metadata": {},
   "source": [
    "## 7. System Information"
   ]
  },
  {
   "cell_type": "code",
   "execution_count": null,
   "metadata": {},
   "outputs": [],
   "source": [
    "import platform\n",
    "import psutil\n",
    "\n",
    "print(\"System Information:\")\n",
    "print(f\"  OS: {platform.system()} {platform.release()}\")\n",
    "print(f\"  Python: {platform.python_version()}\")\n",
    "print(f\"  CPU cores: {psutil.cpu_count()}\")\n",
    "print(f\"  Memory: {psutil.virtual_memory().total / (1024**3):.1f} GB\")\n",
    "print(f\"  Memory available: {psutil.virtual_memory().available / (1024**3):.1f} GB\")\n",
    "\n",
    "# Check disk usage for data\n",
    "if data_lake.exists():\n",
    "    disk = psutil.disk_usage(str(data_lake))\n",
    "    print(f\"\\nDisk usage for {data_lake}:\")\n",
    "    print(f\"  Total: {disk.total / (1024**3):.1f} GB\")\n",
    "    print(f\"  Used: {disk.used / (1024**3):.1f} GB ({disk.percent:.1f}%)\")\n",
    "    print(f\"  Free: {disk.free / (1024**3):.1f} GB\")"
   ]
  },
  {
   "cell_type": "markdown",
   "metadata": {},
   "source": [
    "## Summary\n",
    "\n",
    "This notebook has verified:\n",
    "- ✓ Environment variables are properly configured\n",
    "- ✓ Data lake is mounted and accessible\n",
    "- ✓ Biomni agent can be initialized\n",
    "- ✓ Basic queries can be executed\n",
    "- ✓ Tool registry is available\n",
    "\n",
    "If all checks pass, your Biomni NIBR setup is ready for research!"
   ]
  }
 ],
 "metadata": {
  "kernelspec": {
   "display_name": "Python 3 (ipykernel)",
   "language": "python",
   "name": "python3"
  },
  "language_info": {
   "codemirror_mode": {
    "name": "ipython",
    "version": 3
   },
   "file_extension": ".py",
   "mimetype": "text/x-python",
   "name": "python",
   "nbconvert_exporter": "python",
   "pygments_lexer": "ipython3",
   "version": "3.11.0"
  }
 },
 "nbformat": 4,
 "nbformat_minor": 4
}