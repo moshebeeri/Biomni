{
 "cells": [
  {
   "cell_type": "markdown",
   "metadata": {},
   "source": [
    "# Biomni NIBR Quick Start\n",
    "\n",
    "This notebook demonstrates how to use Biomni for biomedical AI research with the NIBR data lake."
   ]
  },
  {
   "cell_type": "markdown",
   "metadata": {},
   "source": [
    "## 1. Setup and Verification"
   ]
  },
  {
   "cell_type": "code",
   "execution_count": null,
   "metadata": {},
   "outputs": [],
   "source": [
    "import os\n",
    "import pandas as pd\n",
    "import sys\n",
    "\n",
    "# Add Biomni to path\n",
    "sys.path.insert(0, '/app')\n",
    "\n",
    "# Check data is mounted\n",
    "data_path = '/biomni_data/data_lake'\n",
    "files = os.listdir(data_path)\n",
    "print(f\"✅ Data lake mounted with {len(files)} files\")\n",
    "print(f\"📊 Total size: ~14GB\")\n",
    "print(f\"\\nSample files:\")\n",
    "for f in files[:5]:\n",
    "    size = os.path.getsize(f\"{data_path}/{f}\") / (1024*1024)  # MB\n",
    "    print(f\"  • {f}: {size:.1f} MB\")"
   ]
  },
  {
   "cell_type": "markdown",
   "metadata": {},
   "source": [
    "## 2. Initialize Biomni Agent\n",
    "\n",
    "**Note**: You need to set an API key in the environment or `.env` file first."
   ]
  },
  {
   "cell_type": "code",
   "execution_count": null,
   "metadata": {},
   "outputs": [],
   "source": [
    "# Set API key (replace with your actual key)\n",
    "# os.environ['OPENAI_API_KEY'] = 'your-key-here'\n",
    "# os.environ['ANTHROPIC_API_KEY'] = 'your-key-here'\n",
    "\n",
    "from biomni_local_mount import A1LocalMount\n",
    "\n",
    "# Initialize agent with local mount (no S3 download)\n",
    "agent = A1LocalMount(\n",
    "    path='/',\n",
    "    skip_download=True,\n",
    "    validate_data=True,\n",
    "    # llm='gpt-4'  # or 'claude-3', requires API key\n",
    ")\n",
    "\n",
    "print(\"✅ Biomni agent initialized!\")"
   ]
  },
  {
   "cell_type": "markdown",
   "metadata": {},
   "source": [
    "## 3. Explore Available Data"
   ]
  },
  {
   "cell_type": "code",
   "execution_count": null,
   "metadata": {},
   "outputs": [],
   "source": [
    "# Load and preview DisGeNET gene-disease associations\n",
    "disgenet = pd.read_parquet(f'{data_path}/DisGeNET.parquet')\n",
    "print(\"DisGeNET Gene-Disease Associations:\")\n",
    "print(f\"Shape: {disgenet.shape}\")\n",
    "print(f\"\\nColumns: {list(disgenet.columns)}\")\n",
    "print(f\"\\nFirst 5 rows:\")\n",
    "disgenet.head()"
   ]
  },
  {
   "cell_type": "code",
   "execution_count": null,
   "metadata": {},
   "outputs": [],
   "source": [
    "# Check DepMap cancer cell line data\n",
    "depmap_files = [f for f in files if f.startswith('DepMap')]\n",
    "print(\"DepMap Cancer Cell Line Files:\")\n",
    "for f in depmap_files:\n",
    "    size = os.path.getsize(f\"{data_path}/{f}\") / (1024*1024)\n",
    "    print(f\"  • {f}: {size:.1f} MB\")"
   ]
  },
  {
   "cell_type": "markdown",
   "metadata": {},
   "source": [
    "## 4. Run Biomedical Queries\n",
    "\n",
    "**Note**: These require a valid LLM API key to work."
   ]
  },
  {
   "cell_type": "code",
   "execution_count": null,
   "metadata": {},
   "outputs": [],
   "source": [
    "# Example queries (uncomment after setting API key)\n",
    "\n",
    "# # Query 1: Disease-gene associations\n",
    "# result = agent.run(\"What are the top genes associated with Alzheimer's disease?\")\n",
    "# print(result)\n",
    "\n",
    "# # Query 2: Drug targets\n",
    "# result = agent.run(\"Find potential drug targets for type 2 diabetes\")\n",
    "# print(result)\n",
    "\n",
    "# # Query 3: Cancer dependencies\n",
    "# result = agent.run(\"Which genes are essential in lung cancer cell lines according to DepMap?\")\n",
    "# print(result)"
   ]
  },
  {
   "cell_type": "markdown",
   "metadata": {},
   "source": [
    "## 5. Direct Data Analysis"
   ]
  },
  {
   "cell_type": "code",
   "execution_count": null,
   "metadata": {},
   "outputs": [],
   "source": [
    "# Load gene info\n",
    "try:\n",
    "    gene_info = pd.read_parquet(f'{data_path}/gene_info.parquet')\n",
    "    print(f\"Gene info loaded: {gene_info.shape[0]} genes\")\n",
    "    print(f\"Columns: {list(gene_info.columns)[:10]}\")  # First 10 columns\n",
    "except FileNotFoundError:\n",
    "    print(\"gene_info.parquet not found in current dataset\")"
   ]
  },
  {
   "cell_type": "code",
   "execution_count": null,
   "metadata": {},
   "outputs": [],
   "source": [
    "# Analyze disease associations\n",
    "if 'disgenet' in locals():\n",
    "    # Top diseases by number of associated genes\n",
    "    if 'disease_name' in disgenet.columns:\n",
    "        top_diseases = disgenet['disease_name'].value_counts().head(10)\n",
    "        print(\"Top 10 diseases by gene associations:\")\n",
    "        for disease, count in top_diseases.items():\n",
    "            print(f\"  {disease}: {count} genes\")"
   ]
  },
  {
   "cell_type": "markdown",
   "metadata": {},
   "source": [
    "## 6. Custom Analysis Functions"
   ]
  },
  {
   "cell_type": "code",
   "execution_count": null,
   "metadata": {},
   "outputs": [],
   "source": [
    "def find_disease_genes(disease_name, top_n=10):\n",
    "    \"\"\"Find top genes associated with a disease\"\"\"\n",
    "    try:\n",
    "        disgenet = pd.read_parquet(f'{data_path}/DisGeNET.parquet')\n",
    "        \n",
    "        # Filter for disease (case-insensitive)\n",
    "        disease_data = disgenet[\n",
    "            disgenet['disease_name'].str.contains(disease_name, case=False, na=False)\n",
    "        ]\n",
    "        \n",
    "        if disease_data.empty:\n",
    "            return f\"No data found for '{disease_name}'\"\n",
    "        \n",
    "        # Get top genes by score or frequency\n",
    "        if 'score' in disease_data.columns:\n",
    "            top_genes = disease_data.nlargest(top_n, 'score')[['gene_symbol', 'score', 'disease_name']]\n",
    "        else:\n",
    "            top_genes = disease_data.head(top_n)\n",
    "        \n",
    "        return top_genes\n",
    "    except Exception as e:\n",
    "        return f\"Error: {e}\"\n",
    "\n",
    "# Example usage\n",
    "# alzheimer_genes = find_disease_genes('Alzheimer', top_n=5)\n",
    "# print(alzheimer_genes)"
   ]
  },
  {
   "cell_type": "markdown",
   "metadata": {},
   "source": [
    "## 7. Save Results"
   ]
  },
  {
   "cell_type": "code",
   "execution_count": null,
   "metadata": {},
   "outputs": [],
   "source": [
    "# Results are saved to /biomni_data/results/\n",
    "results_path = '/biomni_data/results'\n",
    "os.makedirs(results_path, exist_ok=True)\n",
    "\n",
    "# Example: Save analysis results\n",
    "# results_df.to_csv(f'{results_path}/analysis_results.csv', index=False)\n",
    "# print(f\"Results saved to {results_path}/\")\n",
    "\n",
    "print(f\"✅ Results directory ready at: {results_path}\")"
   ]
  },
  {
   "cell_type": "markdown",
   "metadata": {},
   "source": [
    "## Resources\n",
    "\n",
    "- **Data location**: `/biomni_data/data_lake/` (76 files, 14GB)\n",
    "- **Cache**: `/biomni_data/cache/`\n",
    "- **Results**: `/biomni_data/results/`\n",
    "- **Logs**: `/biomni_data/logs/`\n",
    "\n",
    "### Available Datasets\n",
    "- **DisGeNET**: Gene-disease associations\n",
    "- **DepMap**: Cancer cell line dependencies\n",
    "- **BindingDB**: Drug-protein binding data\n",
    "- **GTEx**: Tissue gene expression\n",
    "- **DrugBank**: Drug-target interactions\n",
    "- **And 70+ more biomedical datasets**\n",
    "\n",
    "### Container Info\n",
    "- **Name**: biomni-nibr\n",
    "- **Memory**: 16GB\n",
    "- **CPUs**: 4 cores\n",
    "- **Image**: biomni:tier2 (3.25GB)"
   ]
  }
 ],
 "metadata": {
  "kernelspec": {
   "display_name": "Python 3",
   "language": "python",
   "name": "python3"
  },
  "language_info": {
   "codemirror_mode": {
    "name": "ipython",
    "version": 3
   },
   "file_extension": ".py",
   "mimetype": "text/x-python",
   "name": "python",
   "nbconvert_exporter": "python",
   "pygments_lexer": "ipython3",
   "version": "3.11.0"
  }
 },
 "nbformat": 4,
 "nbformat_minor": 4
}